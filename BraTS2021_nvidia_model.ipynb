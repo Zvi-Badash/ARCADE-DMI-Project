{
 "cells": [
  {
   "cell_type": "code",
   "execution_count": null,
   "metadata": {},
   "outputs": [],
   "source": [
    "import torch\n",
    "import torch.nn as nn\n",
    "\n",
    "torch.cuda.empty_cache()"
   ]
  },
  {
   "cell_type": "code",
   "execution_count": null,
   "metadata": {},
   "outputs": [],
   "source": [
    "device = torch.device(\"cuda\" if torch.cuda.is_available() else \"cpu\")"
   ]
  },
  {
   "cell_type": "code",
   "execution_count": null,
   "metadata": {},
   "outputs": [],
   "source": [
    "modalities = 3\n",
    "H_in, W_in = 512, 512"
   ]
  },
  {
   "cell_type": "code",
   "execution_count": null,
   "metadata": {},
   "outputs": [],
   "source": [
    "class ResBlock(nn.Module):\n",
    "    def __init__(self, in_channels, out_channels, gn_groups=8):\n",
    "        super(ResBlock, self).__init__()\n",
    "        self.residual = nn.Conv2d(in_channels, out_channels, kernel_size=1, stride=1, padding=0)\n",
    "        self.block = nn.Sequential(\n",
    "            nn.GroupNorm(gn_groups, in_channels),\n",
    "            nn.ReLU(),\n",
    "            nn.Conv2d(in_channels, out_channels, kernel_size=3, stride=1, padding=1),\n",
    "            nn.GroupNorm(gn_groups, out_channels),\n",
    "            nn.ReLU(),\n",
    "            nn.Conv2d(out_channels, out_channels, kernel_size=3, stride=1, padding=1)\n",
    "        )\n",
    "    def forward(self, x):\n",
    "        res = self.residual(x)\n",
    "        x = self.block(x)\n",
    "        x = x + res\n",
    "        return x"
   ]
  },
  {
   "cell_type": "code",
   "execution_count": null,
   "metadata": {},
   "outputs": [],
   "source": [
    "class UNetEncoder(nn.Module):\n",
    "    def __init__(self, in_channels, out_shape=(1, H_in, W_in), gn_groups=8, n_init_features=32):\n",
    "        super(UNetEncoder, self).__init__()\n",
    "        H_in, W_in = out_shape[1], out_shape[2]\n",
    "        self.initial_conv = nn.Conv2d(in_channels, n_init_features, kernel_size=3, stride=1, padding=1)\n",
    "        self.blocks = nn.ModuleList([\n",
    "            ResBlock(n_init_features * 1, n_init_features * 1, gn_groups),\n",
    "            nn.Sequential(\n",
    "                ResBlock(n_init_features * 1, n_init_features * 2, gn_groups),\n",
    "                ResBlock(n_init_features * 2, n_init_features * 2, gn_groups)\n",
    "            ),\n",
    "            nn.Sequential(\n",
    "                ResBlock(n_init_features * 2, n_init_features * 4, gn_groups),\n",
    "                ResBlock(n_init_features * 4, n_init_features * 4, gn_groups)\n",
    "            ),\n",
    "            nn.Sequential(\n",
    "                ResBlock(n_init_features * 4, n_init_features * 8, gn_groups),\n",
    "                ResBlock(n_init_features * 8, n_init_features * 8, gn_groups),\n",
    "                ResBlock(n_init_features * 8, n_init_features * 8, gn_groups),\n",
    "                ResBlock(n_init_features * 8, n_init_features * 8, gn_groups)\n",
    "            )])\n",
    "        self.downsamples = nn.ModuleList([\n",
    "            nn.AdaptiveMaxPool2d((H_in // 2, W_in // 2)),\n",
    "            nn.AdaptiveMaxPool2d((H_in // 4, W_in // 4)),\n",
    "            nn.AdaptiveMaxPool2d((H_in // 8, W_in // 8))\n",
    "        ])\n",
    "        \n",
    "    def forward(self, x):\n",
    "        x = self.initial_conv(x)\n",
    "        x = nn.Dropout2d(0.2)(x)\n",
    "        x = self.blocks[0](x)\n",
    "        skips = []\n",
    "        for block, downsample in zip(self.blocks[1:], self.downsamples):\n",
    "            x = block(x)\n",
    "            x = downsample(x)\n",
    "            skips.append(x)\n",
    "        return x, skips"
   ]
  },
  {
   "cell_type": "code",
   "execution_count": null,
   "metadata": {},
   "outputs": [],
   "source": [
    "class UNetDecoder(nn.Module):\n",
    "    def __init__(self, out_shape=(1, H_in, W_in), gn_groups=8, n_init_features=32):\n",
    "        super(UNetDecoder, self).__init__()\n",
    "        self.blocks = nn.ModuleList([\n",
    "            ResBlock(n_init_features * 4, n_init_features * 4, gn_groups),\n",
    "            ResBlock(n_init_features * 2, n_init_features * 2, gn_groups),\n",
    "            ResBlock(n_init_features * 1, n_init_features * 1, gn_groups)\n",
    "        ])\n",
    "        self.upsamples = nn.ModuleList([\n",
    "            nn.Upsample(scale_factor=2, mode='bilinear'),\n",
    "            nn.Upsample(scale_factor=2, mode='bilinear'),\n",
    "            nn.Upsample(scale_factor=2, mode='bilinear')\n",
    "        ])\n",
    "        self.downsize_features = nn.ModuleList([\n",
    "            nn.Conv2d(n_init_features * 8, n_init_features * 4, kernel_size=1, padding=0),\n",
    "            nn.Conv2d(n_init_features * 4, n_init_features * 2, kernel_size=1, padding=0),\n",
    "            nn.Conv2d(n_init_features * 2, n_init_features * 1, kernel_size=1, padding=0)\n",
    "        ])\n",
    "        self.final_convs = nn.ModuleList([\n",
    "            nn.Conv2d(n_init_features * 1, n_init_features * 1, kernel_size=3, stride=1, padding='same'),\n",
    "            nn.Conv2d(n_init_features * 1, 1, kernel_size=1, padding='same')\n",
    "        ])\n",
    "        \n",
    "    def forward(self, x, skips):\n",
    "        for block, upsample, downsample_channels, skip in zip(self.blocks, self.upsamples, self.downsize_features, reversed(skips)):\n",
    "            x = downsample_channels(x)\n",
    "            x = upsample(x)\n",
    "            # x = x + skip # TODO: add skip connections, currently raises error\n",
    "            x = block(x)\n",
    "        for final_conv in self.final_convs:\n",
    "            x = final_conv(x)\n",
    "        return x"
   ]
  },
  {
   "cell_type": "code",
   "execution_count": null,
   "metadata": {},
   "outputs": [],
   "source": [
    "class VAEDecoder(nn.Module):\n",
    "    def __init__(self, out_shape=(1, H_in, W_in), gn_groups=8, n_init_features=32):\n",
    "        super(VAEDecoder, self).__init__()\n",
    "        self.initial_layers = nn.Sequential(\n",
    "            nn.GroupNorm(gn_groups, n_init_features * 1),\n",
    "            nn.ReLU(),\n",
    "            nn.Conv2d(n_init_features * 1, n_init_features // 2, kernel_size=3, stride=2, padding=1),\n",
    "            nn.Flatten(),\n",
    "            nn.Linear(n_init_features // 2 * H_in // 2 * W_in // 2, 256)\n",
    "        )\n",
    "        self.mu = nn.Linear(256, 128)\n",
    "        self.logvar = nn.Linear(256, 128)\n",
    "        self.sample = lambda mu, logvar: mu + torch.randn_like(logvar) * torch.exp(0.5 * logvar)\n",
    "        self.upsample = nn.Sequential(\n",
    "            nn.Linear(128, n_init_features // 4 * H_in // 16 * W_in // 16),\n",
    "            nn.ReLU(),\n",
    "            nn.Unflatten(1, (n_init_features // 4, H_in // 16, W_in // 16)),\n",
    "            nn.Conv2d(n_init_features // 4, n_init_features * 8, kernel_size=3, stride=1, padding=1),\n",
    "            nn.Upsample(scale_factor=2, mode='bilinear'),\n",
    "            nn.Conv2d(n_init_features * 8, n_init_features * 4, kernel_size=3, stride=1, padding=1),\n",
    "            nn.Upsample(scale_factor=2, mode='bilinear'),\n",
    "            ResBlock(n_init_features * 4, n_init_features * 4, gn_groups),\n",
    "            nn.Conv2d(n_init_features * 4, n_init_features * 2, kernel_size=3, stride=1, padding=1),\n",
    "            nn.Upsample(scale_factor=2, mode='bilinear'),\n",
    "            ResBlock(n_init_features * 2, n_init_features * 2, gn_groups),\n",
    "            nn.Conv2d(n_init_features * 2, n_init_features * 1, kernel_size=3, stride=1, padding=1),\n",
    "            nn.Upsample(scale_factor=2, mode='bilinear'),\n",
    "            ResBlock(n_init_features * 1, n_init_features * 1, gn_groups)\n",
    "        )\n",
    "        self.final_conv = nn.Sequential(\n",
    "            nn.Conv2d(n_init_features * 1, n_init_features * 1, kernel_size=3, stride=1, padding=1),\n",
    "            nn.Conv2d(n_init_features * 1, 1, kernel_size=1)\n",
    "        )\n",
    "\n",
    "    def forward(self, x):\n",
    "        x = self.initial_layers(x)\n",
    "        mu, logvar = self.mu(x), self.logvar(x)\n",
    "        x = self.sample(mu, logvar)\n",
    "        x = self.upsample(x)\n",
    "        x = self.final_conv(x)\n",
    "        return x, mu, logvar"
   ]
  },
  {
   "cell_type": "code",
   "execution_count": null,
   "metadata": {},
   "outputs": [],
   "source": [
    "class UNet(nn.Module):\n",
    "    def __init__(self, in_channels, out_shape=(1, H_in, W_in), gn_groups=8, n_init_features=32):\n",
    "        super(UNet, self).__init__()\n",
    "        self.encoder = UNetEncoder(in_channels, out_shape, gn_groups, n_init_features)\n",
    "        self.decoder = UNetDecoder(out_shape, gn_groups, n_init_features)\n",
    "        self.vae_decoder = VAEDecoder(out_shape, gn_groups, n_init_features)\n",
    "        \n",
    "    def forward(self, x):\n",
    "        encoder_output, skips = self.encoder(x)\n",
    "        vae_output, mu, logvar = self.vae_decoder(encoder_output)\n",
    "        decoder_output = self.decoder(encoder_output, skips)\n",
    "        return decoder_output, vae_output, mu, logvar"
   ]
  },
  {
   "cell_type": "code",
   "execution_count": null,
   "metadata": {},
   "outputs": [],
   "source": [
    "model = UNet(modalities, (1, H_in, W_in)).to(device)\n",
    "model(torch.randn(1, modalities, H_in, W_in).to(device))\n",
    "\n",
    "## Format number of parameters nicely\n",
    "print(f\"Number of parameters: {sum(p.numel() for p in model.parameters()):,}\")"
   ]
  }
 ],
 "metadata": {
  "kernelspec": {
   "display_name": ".venv",
   "language": "python",
   "name": "python3"
  },
  "language_info": {
   "codemirror_mode": {
    "name": "ipython",
    "version": 3
   },
   "file_extension": ".py",
   "mimetype": "text/x-python",
   "name": "python",
   "nbconvert_exporter": "python",
   "pygments_lexer": "ipython3",
   "version": "3.10.12"
  }
 },
 "nbformat": 4,
 "nbformat_minor": 2
}
