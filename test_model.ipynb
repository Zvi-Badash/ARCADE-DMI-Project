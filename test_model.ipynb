{
 "cells": [
  {
   "cell_type": "markdown",
   "metadata": {},
   "source": [
    "## Imports & Config"
   ]
  },
  {
   "cell_type": "code",
   "execution_count": null,
   "metadata": {},
   "outputs": [],
   "source": [
    "import torch\n",
    "import yaml\n",
    "from arcade_dataset import load_dataset, visualize_batch\n",
    "import matplotlib.pyplot as plt\n",
    "from model import VesselSegmentationModel\n",
    "import pytorch_lightning as pl\n",
    "from time import time\n",
    "torch.cuda.empty_cache()"
   ]
  },
  {
   "cell_type": "code",
   "execution_count": null,
   "metadata": {},
   "outputs": [],
   "source": [
    "device = torch.device(\"cpu\" if torch.cuda.is_available() else \"cpu\")"
   ]
  },
  {
   "cell_type": "code",
   "execution_count": null,
   "metadata": {},
   "outputs": [],
   "source": [
    "config = yaml.load(open('model_overfit_config.yaml', 'r'), Loader=yaml.FullLoader)"
   ]
  },
  {
   "cell_type": "code",
   "execution_count": null,
   "metadata": {},
   "outputs": [],
   "source": [
    "modalities, H_in, W_in = config['input']['image_shape']"
   ]
  },
  {
   "cell_type": "markdown",
   "metadata": {},
   "source": [
    "## Model Definition"
   ]
  },
  {
   "cell_type": "code",
   "execution_count": null,
   "metadata": {},
   "outputs": [],
   "source": [
    "model_path = 'models/final_model/...'\n",
    "model = VesselSegmentationModel.load_from_checkpoint(model_path)"
   ]
  },
  {
   "cell_type": "code",
   "execution_count": null,
   "metadata": {},
   "outputs": [],
   "source": [
    "trainer = pl.Trainer(accelerator='auto')\n",
    "trainer.test(model)"
   ]
  },
  {
   "cell_type": "markdown",
   "metadata": {},
   "source": [
    "### Test the model on a single image"
   ]
  },
  {
   "cell_type": "code",
   "execution_count": null,
   "metadata": {},
   "outputs": [],
   "source": [
    "dataset = load_dataset(split='val')\n",
    "next(iter(dataset)).keys()\n",
    "dataloader = torch.utils.data.DataLoader(dataset, batch_size=3, shuffle=True)"
   ]
  },
  {
   "cell_type": "code",
   "execution_count": null,
   "metadata": {},
   "outputs": [],
   "source": [
    "batch = next(iter(dataloader))"
   ]
  },
  {
   "cell_type": "code",
   "execution_count": null,
   "metadata": {},
   "outputs": [],
   "source": [
    "visualize_batch(batch, num_classes=25, num_images=3)"
   ]
  },
  {
   "cell_type": "code",
   "execution_count": null,
   "metadata": {},
   "outputs": [],
   "source": [
    "# Look at the output of the model\n",
    "model.eval()\n",
    "model.to(device)"
   ]
  },
  {
   "cell_type": "code",
   "execution_count": null,
   "metadata": {},
   "outputs": [
    {
     "data": {
      "application/vnd.jupyter.widget-view+json": {
       "model_id": "363045634a0f447983484362b1e8f0ca",
       "version_major": 2,
       "version_minor": 0
      },
      "text/plain": [
       "  0%|          | 0/30 [00:00<?, ?it/s]"
      ]
     },
     "metadata": {},
     "output_type": "display_data"
    }
   ],
   "source": [
    "from tqdm.notebook import tqdm\n",
    "\n",
    "\n",
    "for i in tqdm(range(30)):    \n",
    "    batch = next(iter(dataloader))\n",
    "    x, y_gt = batch['transformed_image'], batch['separate_masks']\n",
    "    decoder_output, vae_output, _, labels, _ = model(x)\n",
    "    img = 0\n",
    "    \n",
    "    valid_channels = [c for c in range(25) if y_gt[img, c, :, :].mean() > 0.000001 and decoder_output[img, c, :, :].mean() > 0.000001]\n",
    "    plt.subplots(figsize=(10, 10), ncols=3, nrows=len(valid_channels), sharex=True, sharey=True)\n",
    "\n",
    "    for i, c in enumerate(valid_channels):\n",
    "        plt.subplot(len(valid_channels), 3, 3 * i + 1)\n",
    "        plt.imshow(x[img, 0, :, :].cpu().numpy(), cmap='gray')\n",
    "        plt.title('Input Image')\n",
    "        plt.axis('off')\n",
    "\n",
    "        plt.subplot(len(valid_channels), 3, 3 * i + 2)\n",
    "        plt.imshow(y_gt[img, c, :, :].cpu().numpy(), cmap='gray')\n",
    "        plt.title('Ground Truth Mask')\n",
    "        plt.axis('off')\n",
    "\n",
    "        plt.subplot(len(valid_channels), 3, 3 * i + 3)\n",
    "        plt.imshow(decoder_output[img, c, :, :].detach().cpu().numpy(), cmap='gray')\n",
    "        plt.title('Decoder Output')\n",
    "        plt.axis('off')\n",
    "\n",
    "    plt.tight_layout()\n",
    "    plt.savefig(f'plots/outputs/model_output_{str(hash(time()))[:10]}.svg', format='svg', bbox_inches='tight')\n",
    "    plt.show()"
   ]
  }
 ],
 "metadata": {
  "kernelspec": {
   "display_name": ".venv",
   "language": "python",
   "name": "python3"
  },
  "language_info": {
   "codemirror_mode": {
    "name": "ipython",
    "version": 3
   },
   "file_extension": ".py",
   "mimetype": "text/x-python",
   "name": "python",
   "nbconvert_exporter": "python",
   "pygments_lexer": "ipython3",
   "version": "3.10.12"
  }
 },
 "nbformat": 4,
 "nbformat_minor": 2
}
